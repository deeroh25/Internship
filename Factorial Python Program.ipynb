{
  "nbformat": 4,
  "nbformat_minor": 0,
  "metadata": {
    "colab": {
      "name": "Untitled1.ipynb",
      "provenance": [],
      "collapsed_sections": [],
      "authorship_tag": "ABX9TyMts1I/yMu3/mgskzdSg3Np",
      "include_colab_link": true
    },
    "kernelspec": {
      "name": "python3",
      "display_name": "Python 3"
    },
    "language_info": {
      "name": "python"
    }
  },
  "cells": [
    {
      "cell_type": "markdown",
      "metadata": {
        "id": "view-in-github",
        "colab_type": "text"
      },
      "source": [
        "<a href=\"https://colab.research.google.com/github/deeroh25/Internship/blob/main/Factorial%20Python%20Program.ipynb\" target=\"_parent\"><img src=\"https://colab.research.google.com/assets/colab-badge.svg\" alt=\"Open In Colab\"/></a>"
      ]
    },
    {
      "cell_type": "markdown",
      "metadata": {
        "id": "I8kpj-xL134c"
      },
      "source": [
        "A python program to find the factorial of a number."
      ]
    },
    {
      "cell_type": "code",
      "metadata": {
        "colab": {
          "base_uri": "https://localhost:8080/"
        },
        "id": "VEjbgP8612Lz",
        "outputId": "a9338e08-b640-4948-bb01-2bfb1a2c04ec"
      },
      "source": [
        "#Getting input from user\n",
        "num = int(input(\"Enter a number for which you like to find factorial: \"))\n",
        "f=1\n",
        "\n",
        "if num < 0:    \n",
        "   print(\" Factorial does not exist for negative numbers\")    \n",
        "elif num == 0:    \n",
        "   print(\"The factorial of 0 is 1\")    \n",
        "else: \n",
        "    for i in range(1,num+1):\n",
        "        f=f*i\n",
        "    print(\"Factorial of number\", num, \"is: \", f)  "
      ],
      "execution_count": 9,
      "outputs": [
        {
          "output_type": "stream",
          "name": "stdout",
          "text": [
            "Enter a number for which you like to find factorial: 5\n",
            "Factorial of number 5 is:  120\n"
          ]
        }
      ]
    }
  ]
}