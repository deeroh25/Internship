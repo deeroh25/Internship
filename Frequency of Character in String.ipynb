{
  "nbformat": 4,
  "nbformat_minor": 0,
  "metadata": {
    "colab": {
      "name": "Untitled1.ipynb",
      "provenance": [],
      "collapsed_sections": [],
      "authorship_tag": "ABX9TyN4ooiNlS2yEkYVot4YHh+t"
    },
    "kernelspec": {
      "name": "python3",
      "display_name": "Python 3"
    },
    "language_info": {
      "name": "python"
    }
  },
  "cells": [
    {
      "cell_type": "markdown",
      "metadata": {
        "id": "I8kpj-xL134c"
      },
      "source": [
        "A python program to print the frequency of each of the characters present in a given string."
      ]
    },
    {
      "cell_type": "code",
      "metadata": {
        "colab": {
          "base_uri": "https://localhost:8080/"
        },
        "id": "VEjbgP8612Lz",
        "outputId": "17131b29-e756-47c9-f7ff-e8905a6f68d4"
      },
      "source": [
        "#Getting input from user\n",
        "\n",
        "string=input(\"Enter the string \")\n",
        "freq = dict()\n",
        "\n",
        "for i in string:\n",
        "    if i in freq:\n",
        "        freq[i] = freq[i] + 1\n",
        "    else:\n",
        "        freq[i] = 1\n",
        "\n",
        "print(\"Frquency of character in\", string, \"is as follows\")\n",
        "print(freq)"
      ],
      "execution_count": 29,
      "outputs": [
        {
          "output_type": "stream",
          "name": "stdout",
          "text": [
            "Enter the string Flip Robo\n",
            "Frquency of character in Flip Robo is as follows\n",
            "{'F': 1, 'l': 1, 'i': 1, 'p': 1, ' ': 1, 'R': 1, 'o': 2, 'b': 1}\n"
          ]
        }
      ]
    }
  ]
}