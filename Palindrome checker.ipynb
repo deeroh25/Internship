{
  "nbformat": 4,
  "nbformat_minor": 0,
  "metadata": {
    "colab": {
      "name": "Untitled1.ipynb",
      "provenance": [],
      "collapsed_sections": [],
      "authorship_tag": "ABX9TyP6LzefdGCYq65KxLY4w18t",
      "include_colab_link": true
    },
    "kernelspec": {
      "name": "python3",
      "display_name": "Python 3"
    },
    "language_info": {
      "name": "python"
    }
  },
  "cells": [
    {
      "cell_type": "markdown",
      "metadata": {
        "id": "view-in-github",
        "colab_type": "text"
      },
      "source": [
        "<a href=\"https://colab.research.google.com/github/deeroh25/Internship/blob/main/Palindrome%20checker.ipynb\" target=\"_parent\"><img src=\"https://colab.research.google.com/assets/colab-badge.svg\" alt=\"Open In Colab\"/></a>"
      ]
    },
    {
      "cell_type": "markdown",
      "metadata": {
        "id": "I8kpj-xL134c"
      },
      "source": [
        "A python program to check whether a given string is palindrome or not."
      ]
    },
    {
      "cell_type": "code",
      "metadata": {
        "colab": {
          "base_uri": "https://localhost:8080/"
        },
        "id": "VEjbgP8612Lz",
        "outputId": "ddc4e10c-e95f-49eb-e85a-8e4b93a74d57"
      },
      "source": [
        "#Getting input from user\n",
        "string = input(\"Enter a string to check if it's palingdrome: \")\n",
        "\n",
        "# make it suitable for caseless comparison\n",
        "string = string.casefold()\n",
        "\n",
        "# reverse the string\n",
        "rev_str = reversed(string)\n",
        "\n",
        "# check if the string is equal to its reverse\n",
        "if list(string) == list(rev_str):\n",
        "   print(\"The string is a palindrome.\")\n",
        "else:\n",
        "   print(\"The string is not a palindrome.\")"
      ],
      "execution_count": 16,
      "outputs": [
        {
          "output_type": "stream",
          "name": "stdout",
          "text": [
            "Enter a string to check if it's palingdrome: Tenet\n",
            "The string is a palindrome.\n"
          ]
        }
      ]
    }
  ]
}