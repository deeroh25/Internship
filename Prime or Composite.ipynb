{
  "nbformat": 4,
  "nbformat_minor": 0,
  "metadata": {
    "colab": {
      "name": "Copy of Untitled1.ipynb",
      "provenance": [],
      "collapsed_sections": [],
      "authorship_tag": "ABX9TyN3m8DSILx7ePNs8Trf9xvU",
      "include_colab_link": true
    },
    "kernelspec": {
      "name": "python3",
      "display_name": "Python 3"
    },
    "language_info": {
      "name": "python"
    }
  },
  "cells": [
    {
      "cell_type": "markdown",
      "metadata": {
        "id": "view-in-github",
        "colab_type": "text"
      },
      "source": [
        "<a href=\"https://colab.research.google.com/github/deeroh25/Internship/blob/main/Prime%20or%20Composite.ipynb\" target=\"_parent\"><img src=\"https://colab.research.google.com/assets/colab-badge.svg\" alt=\"Open In Colab\"/></a>"
      ]
    },
    {
      "cell_type": "markdown",
      "metadata": {
        "id": "I8kpj-xL134c"
      },
      "source": [
        "A python program to find whether a number is prime or composite."
      ]
    },
    {
      "cell_type": "code",
      "metadata": {
        "colab": {
          "base_uri": "https://localhost:8080/"
        },
        "id": "VEjbgP8612Lz",
        "outputId": "1d87fa34-0066-4f44-c810-31606465bdee"
      },
      "source": [
        "#Getting input from user\n",
        "num = int(input(\"Enter a number to check if it's prime or composite: \"))\n",
        "flag=False\n",
        "\n",
        "if num > 1:\n",
        "    for i in range(2, num):\n",
        "        if(num%i == 0):\n",
        "            flag = True\n",
        "            break\n",
        "\n",
        "# To check if flag is True\n",
        "if flag:\n",
        "    print(num, \"is a composite number\")\n",
        "else:\n",
        "    print(num, \"is a prime number\")"
      ],
      "execution_count": null,
      "outputs": [
        {
          "output_type": "stream",
          "name": "stdout",
          "text": [
            "Enter a number to check if it's prime or composite: 17\n",
            "17 is a prime number\n"
          ]
        }
      ]
    }
  ]
}