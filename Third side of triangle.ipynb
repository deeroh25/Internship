{
  "nbformat": 4,
  "nbformat_minor": 0,
  "metadata": {
    "colab": {
      "name": "Untitled1.ipynb",
      "provenance": [],
      "collapsed_sections": [],
      "authorship_tag": "ABX9TyP2zjqZss+ibWQ2ATEps3gR"
    },
    "kernelspec": {
      "name": "python3",
      "display_name": "Python 3"
    },
    "language_info": {
      "name": "python"
    }
  },
  "cells": [
    {
      "cell_type": "markdown",
      "metadata": {
        "id": "I8kpj-xL134c"
      },
      "source": [
        "A Python program to get the third side of right-angled triangle from two given sides."
      ]
    },
    {
      "cell_type": "code",
      "metadata": {
        "colab": {
          "base_uri": "https://localhost:8080/"
        },
        "id": "VEjbgP8612Lz",
        "outputId": "b0063089-4ffe-425c-8ccb-9a68045d3a04"
      },
      "source": [
        "import math\n",
        "\n",
        "#Getting input from user\n",
        "side1 = int(input(\"Enter length of first side of traingle: \"))\n",
        "side2 = int(input(\"Enter length of second side of traingle: \"))\n",
        "\n",
        "#squaring both sides and adding their sum\n",
        "\n",
        "square_sum = side1**2 + side2**2\n",
        "\n",
        "#square rooting the sum\n",
        "\n",
        "side3 = math.sqrt(square_sum)\n",
        "\n",
        "print(\"Third side of right triangle is \", side3)"
      ],
      "execution_count": 21,
      "outputs": [
        {
          "output_type": "stream",
          "name": "stdout",
          "text": [
            "Enter length of first side of traingle: 8\n",
            "Enter length of second side of traingle: 6\n",
            "Third side of right triangle is  10.0\n"
          ]
        }
      ]
    }
  ]
}