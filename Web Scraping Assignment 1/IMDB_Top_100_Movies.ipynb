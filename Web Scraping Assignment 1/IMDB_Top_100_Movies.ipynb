{
  "nbformat": 4,
  "nbformat_minor": 0,
  "metadata": {
    "colab": {
      "name": "IMDB - Top 100 Movies.ipynb",
      "provenance": [],
      "collapsed_sections": []
    },
    "kernelspec": {
      "name": "python3",
      "display_name": "Python 3"
    },
    "language_info": {
      "name": "python"
    }
  },
  "cells": [
    {
      "cell_type": "code",
      "metadata": {
        "colab": {
          "base_uri": "https://localhost:8080/"
        },
        "id": "RcWINoS19dxk",
        "outputId": "01fa0f05-48fc-464f-d16b-65dc78037817"
      },
      "source": [
        "from bs4 import BeautifulSoup\n",
        "import requests\n",
        "import pandas as pd\n",
        "\n",
        "html_text = requests.get(\"https://www.imdb.com/search/title/?groups=top_100&sort=user_rating,desc\").text\n",
        "soup = BeautifulSoup(html_text, 'lxml')\n",
        "List = soup.find_all('div', class_ = 'lister-item mode-advanced')\n",
        "row = []\n",
        "\n",
        "for items in List:\n",
        "    Name = items.find('h3', class_ = 'lister-item-header').a.text\n",
        "    Rating = items.find('div', class_ = 'inline-block ratings-imdb-rating').text\n",
        "    Year = items.find('span', class_ = 'lister-item-year text-muted unbold').text\n",
        "\n",
        "    row.append([Name.strip(), Rating.strip(), Year.strip()])\n",
        "\n",
        "\n",
        "\n",
        "df = pd.DataFrame(row, columns = ['Name', 'Rating', 'Year'])\n",
        "print(df)\n"
      ],
      "execution_count": 11,
      "outputs": [
        {
          "output_type": "stream",
          "name": "stdout",
          "text": [
            "                                                 Name Rating    Year\n",
            "0                            The Shawshank Redemption    9.3  (1994)\n",
            "1                                       The Godfather    9.2  (1972)\n",
            "2                                     The Dark Knight    9.0  (2008)\n",
            "3                              The Godfather: Part II    9.0  (1974)\n",
            "4                                        12 Angry Men    9.0  (1957)\n",
            "5       The Lord of the Rings: The Return of the King    8.9  (2003)\n",
            "6                                        Pulp Fiction    8.9  (1994)\n",
            "7                                    Schindler's List    8.9  (1993)\n",
            "8                                           Inception    8.8  (2010)\n",
            "9                                          Fight Club    8.8  (1999)\n",
            "10  The Lord of the Rings: The Fellowship of the Ring    8.8  (2001)\n",
            "11                                       Forrest Gump    8.8  (1994)\n",
            "12                     The Good, the Bad and the Ugly    8.8  (1966)\n",
            "13              The Lord of the Rings: The Two Towers    8.7  (2002)\n",
            "14                                         The Matrix    8.7  (1999)\n",
            "15                                         Goodfellas    8.7  (1990)\n",
            "16     Star Wars: Episode V - The Empire Strikes Back    8.7  (1980)\n",
            "17                    One Flew Over the Cuckoo's Nest    8.7  (1975)\n",
            "18                                           Parasite    8.6  (2019)\n",
            "19                                       Interstellar    8.6  (2014)\n",
            "20                                        City of God    8.6  (2002)\n",
            "21                                      Spirited Away    8.6  (2001)\n",
            "22                                Saving Private Ryan    8.6  (1998)\n",
            "23                                     The Green Mile    8.6  (1999)\n",
            "24                                  Life Is Beautiful    8.6  (1997)\n",
            "25                                              Se7en    8.6  (1995)\n",
            "26                           The Silence of the Lambs    8.6  (1991)\n",
            "27                 Star Wars: Episode IV - A New Hope    8.6  (1977)\n",
            "28                                          Hara-Kiri    8.6  (1962)\n",
            "29                                      Seven Samurai    8.6  (1954)\n",
            "30                              It's a Wonderful Life    8.6  (1946)\n",
            "31                                           Whiplash    8.5  (2014)\n",
            "32                                   The Intouchables    8.5  (2011)\n",
            "33                                       The Prestige    8.5  (2006)\n",
            "34                                       The Departed    8.5  (2006)\n",
            "35                                        The Pianist    8.5  (2002)\n",
            "36                                          Gladiator    8.5  (2000)\n",
            "37                                 American History X    8.5  (1998)\n",
            "38                                 The Usual Suspects    8.5  (1995)\n",
            "39                             Léon: The Professional    8.5  (1994)\n",
            "40                                      The Lion King    8.5  (1994)\n",
            "41                         Terminator 2: Judgment Day    8.5  (1991)\n",
            "42                                    Cinema Paradiso    8.5  (1988)\n",
            "43                             Grave of the Fireflies    8.5  (1988)\n",
            "44                                 Back to the Future    8.5  (1985)\n",
            "45                       Once Upon a Time in the West    8.5  (1968)\n",
            "46                                             Psycho    8.5  (1960)\n",
            "47                                        Rear Window    8.5  (1954)\n",
            "48                                         Casablanca    8.5  (1942)\n",
            "49                                       Modern Times    8.5  (1936)\n"
          ]
        }
      ]
    }
  ]
}