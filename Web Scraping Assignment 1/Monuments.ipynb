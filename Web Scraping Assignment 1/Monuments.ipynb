{
  "nbformat": 4,
  "nbformat_minor": 0,
  "metadata": {
    "colab": {
      "name": "Monuments .ipynb",
      "provenance": []
    },
    "kernelspec": {
      "name": "python3",
      "display_name": "Python 3"
    },
    "language_info": {
      "name": "python"
    }
  },
  "cells": [
    {
      "cell_type": "code",
      "metadata": {
        "id": "XLWHd1xoCpi-"
      },
      "source": [
        "from bs4 import BeautifulSoup\n",
        "#from requests_html import HTMLSession\n",
        "import requests\n",
        "import pandas as pd\n",
        "\n",
        "   \n",
        "html_text = requests.get('https://www.puredestinations.co.uk/top-10-famous-monuments-to-visit-in-india/').text\n",
        "soup = BeautifulSoup(html_text, 'lxml')\n",
        "content = soup.find_all('div', class_ = 'blog--single__content column--3-4 u-spacing-third')\n",
        "\n",
        "if 'strong' in content:\n",
        "\n",
        "    for items in content:\n",
        "\n",
        "        name, paragraph, URL = [each for each in items.find('p')]\n",
        "        print(name)\n",
        "        print(paragraph)\n",
        "        print(URL)\n",
        "\n",
        "\n",
        "\n"
      ],
      "execution_count": 3,
      "outputs": []
    }
  ]
}