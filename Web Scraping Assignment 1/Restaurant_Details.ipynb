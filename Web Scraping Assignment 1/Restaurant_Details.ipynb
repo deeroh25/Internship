{
  "nbformat": 4,
  "nbformat_minor": 0,
  "metadata": {
    "colab": {
      "name": "Restaurant Details.ipynb",
      "provenance": []
    },
    "kernelspec": {
      "name": "python3",
      "display_name": "Python 3"
    },
    "language_info": {
      "name": "python"
    }
  },
  "cells": [
    {
      "cell_type": "code",
      "metadata": {
        "colab": {
          "base_uri": "https://localhost:8080/"
        },
        "id": "C49xTgn0OPcy",
        "outputId": "7adb493e-8d96-43ab-c0bf-96b4de68efb7"
      },
      "source": [
        "from bs4 import BeautifulSoup\n",
        "import requests\n",
        "import pandas as pd\n",
        "\n",
        "html_text = requests.get('https://www.dineout.co.in/delhi-restaurants/buffet-special').text\n",
        "soup = BeautifulSoup(html_text, 'lxml')\n",
        "\n",
        "Block = soup.find_all('div', class_ = 'restnt-detail-wrap')\n",
        "\n",
        "row = []\n",
        "\n",
        "#here i'm able to extract Name CUisine and Location but unfortunately getting error for Rating and Image URL. \n",
        "#For Rating the issue i'm facing is that the tag is different for each Restaurant\n",
        "\n",
        "for items in Block:\n",
        "\n",
        "    Name = items.find('a', class_ = 'restnt-name ellipsis').text\n",
        "    Location = items.find('div', class_ = 'restnt-loc ellipsis').text\n",
        "    Cuisine = items.find('div', class_ = 'detail-info').a.text\n",
        "    image = items.find('img', class_ = 'detail-info')\n",
        "    row.append([Name.strip(), Cuisine.strip(), Location.strip()])\n",
        "\n",
        "df = pd.DataFrame(row, columns = ['Name', 'Cuisine', 'Location'])\n",
        "print(df)"
      ],
      "execution_count": 22,
      "outputs": [
        {
          "output_type": "stream",
          "name": "stdout",
          "text": [
            "                                Name  ...                                           Location\n",
            "0                    Castle Barbeque  ...                     Connaught Place, Central Delhi\n",
            "1                    Jungle Jamboree  ...             3CS Mall,Lajpat Nagar - 3, South Delhi\n",
            "2                    Castle Barbeque  ...             Pacific Mall,Tagore Garden, West Delhi\n",
            "3               The Barbeque Company  ...                 Gardens Galleria,Sector 38A, Noida\n",
            "4                         Cafe Knosh  ...  The Leela Ambience Convention Hotel,Shahdara, ...\n",
            "5                        India Grill  ...               Hilton Garden Inn,Saket, South Delhi\n",
            "6                     Delhi Barbeque  ...     Taurus Sarovar Portico,Mahipalpur, South Delhi\n",
            "7   The Monarch - Bar Be Que Village  ...  Indirapuram Habitat Centre,Indirapuram, Ghaziabad\n",
            "8                         World Cafe  ...   Vibe by The Lalit Traveller,Sector 35, Faridabad\n",
            "9                  Indian Grill Room  ...   Suncity Business Tower,Golf Course Road, Gurgaon\n",
            "10                   Mad 4 Bar B Que  ...                               Sector 29, Faridabad\n",
            "11                       Barbeque 29  ...                                     NIT, Faridabad\n",
            "12                        Glasshouse  ...  DoubleTree By Hilton Gurugram Baani Square,Sec...\n",
            "\n",
            "[13 rows x 3 columns]\n"
          ]
        }
      ]
    }
  ]
}