{
  "nbformat": 4,
  "nbformat_minor": 0,
  "metadata": {
    "colab": {
      "name": "Top 10 Mens Cricket Teams.ipynb",
      "provenance": [],
      "collapsed_sections": []
    },
    "kernelspec": {
      "name": "python3",
      "display_name": "Python 3"
    },
    "language_info": {
      "name": "python"
    }
  },
  "cells": [
    {
      "cell_type": "code",
      "metadata": {
        "colab": {
          "base_uri": "https://localhost:8080/"
        },
        "id": "RXerPIlF0wPn",
        "outputId": "4ad51a2b-f999-4c41-a252-5922e469adfc"
      },
      "source": [
        "from bs4 import BeautifulSoup\n",
        "import requests\n",
        "import pandas as pd\n",
        "\n",
        "html_text = requests.get('https://www.icc-cricket.com/rankings/mens/team-rankings/odi').text\n",
        "soup = BeautifulSoup(html_text, 'lxml')\n",
        "table = soup.find_all('div', class_ = 'rankings-block__container full rankings-table')\n",
        "rank1 = soup.find('td', class_ = 'rankings-block__banner--pos').text\n",
        "team1 = soup.find('span', class_ = 'u-hide-phablet').text\n",
        "match1 = soup.find('td', class_ = 'rankings-block__banner--matches').text\n",
        "points1 = soup.find('td', class_ = 'rankings-block__banner--points').text\n",
        "rating1 = soup.find('td', class_ = 'rankings-block__banner--rating u-text-right').text\n",
        "\n",
        "row = [[rank1.strip(), team1.strip(), match1.strip(), points1.strip(), rating1.strip()]]\n",
        "\n",
        "i=1\n",
        "\n",
        "block = soup.find_all('tr', class_ = 'table-body')\n",
        "\n",
        "\n",
        "for items in block:\n",
        "\n",
        "    if i<=9:\n",
        "\n",
        "        Ranking = items.find('td', class_ = 'table-body__cell table-body__cell--position u-text-right').text\n",
        "        Team_Name = items.find('span', class_ = 'u-hide-phablet').text\n",
        "        Matches, Points = [each.text for each in items.find_all('td', class_ = 'table-body__cell u-center-text')]\n",
        "        Rating = items.find('td', class_ = 'table-body__cell u-text-right rating').text\n",
        "\n",
        "        row.append([Ranking.strip(), Team_Name.strip(), Matches.strip(), Points.strip(), Rating.strip()])\n",
        "    i=i+1\n",
        "  \n",
        "  \n",
        "  \n",
        "df1 = pd.DataFrame(row, columns = ['Rank', 'Team Name', 'Matches Played', 'Points', 'Rating'])\n",
        "print(df1)\n",
        "\n",
        "    \n",
        "\n"
      ],
      "execution_count": null,
      "outputs": [
        {
          "output_type": "stream",
          "name": "stdout",
          "text": [
            "  Rank     Team Name Matches Played Points Rating\n",
            "0    1   New Zealand             17  2,054    121\n",
            "1    2       England             32  3,793    119\n",
            "2    3     Australia             28  3,244    116\n",
            "3    4         India             32  3,624    113\n",
            "4    5  South Africa             25  2,459     98\n",
            "5    6      Pakistan             27  2,524     93\n",
            "6    7    Bangladesh             30  2,740     91\n",
            "7    8   West Indies             30  2,523     84\n",
            "8    9     Sri Lanka             32  2,657     83\n",
            "9   10   Afghanistan             17  1,054     62\n"
          ]
        }
      ]
    }
  ]
}