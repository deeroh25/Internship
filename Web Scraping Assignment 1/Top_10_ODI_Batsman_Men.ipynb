{
  "nbformat": 4,
  "nbformat_minor": 0,
  "metadata": {
    "colab": {
      "name": "Top 10 ODI Batsman - Men.ipynb",
      "provenance": []
    },
    "kernelspec": {
      "name": "python3",
      "display_name": "Python 3"
    },
    "language_info": {
      "name": "python"
    }
  },
  "cells": [
    {
      "cell_type": "code",
      "metadata": {
        "colab": {
          "base_uri": "https://localhost:8080/"
        },
        "id": "D1KEhY5bBQR0",
        "outputId": "3711cbf0-abd6-416b-b72a-d0d167fbb5d0"
      },
      "source": [
        "from bs4 import BeautifulSoup\n",
        "import requests\n",
        "import pandas as pd\n",
        "\n",
        "\n",
        "html_text = requests.get('https://www.icc-cricket.com/rankings/mens/player-rankings/odi').text\n",
        "soup = BeautifulSoup(html_text, 'lxml')\n",
        "table = soup.find('div', class_ = 'rankings-block__banner--player-info')\n",
        "block = soup.find_all('tr', class_ = 'table-body')\n",
        "\n",
        "rank1 = soup.find('div', class_ = 'rankings-block__banner--pos').text\n",
        "name1 = soup.find('div', class_ = 'rankings-block__banner--name').text\n",
        "rate1 = soup.find('div', class_ = 'rankings-block__banner--rating').text\n",
        "\n",
        "row = [[rank1.strip(), name1.strip(), rate1.strip()]]\n",
        "\n",
        "i=1\n",
        "\n",
        "for items in block:\n",
        "\n",
        "    if i<=9:\n",
        "\n",
        "        Name = items.find('td', class_ = 'table-body__cell name').text\n",
        "        Rank = items.find('td', class_ = 'table-body__cell table-body__cell--position u-text-right').text\n",
        "        Rating = items.find('td', class_ = 'table-body__cell u-text-right rating').text\n",
        "\n",
        "        row.append([Rank.strip(), Name.strip(), Rating.strip()])\n",
        "\n",
        "    i=i+1\n",
        "\n",
        "df = pd.DataFrame(row, columns = ['Rank', 'Player', 'Rating'])\n",
        "print(df)\n",
        "\n"
      ],
      "execution_count": 11,
      "outputs": [
        {
          "output_type": "stream",
          "name": "stdout",
          "text": [
            "  Rank           Player Rating\n",
            "0    1       Babar Azam    873\n",
            "1    2      Virat Kohli    844\n",
            "2    3     Rohit Sharma    813\n",
            "3    4      Ross Taylor    801\n",
            "4    5      Aaron Finch    779\n",
            "5    6   Jonny Bairstow    775\n",
            "6    7     David Warner    762\n",
            "7    8        Shai Hope    758\n",
            "8    9  Kane Williamson    754\n",
            "9   10  Quinton de Kock    747\n"
          ]
        }
      ]
    }
  ]
}