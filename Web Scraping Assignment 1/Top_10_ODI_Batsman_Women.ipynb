{
  "nbformat": 4,
  "nbformat_minor": 0,
  "metadata": {
    "colab": {
      "name": "Top 10 ODI Batsman - Women.ipynb",
      "provenance": []
    },
    "kernelspec": {
      "name": "python3",
      "display_name": "Python 3"
    },
    "language_info": {
      "name": "python"
    }
  },
  "cells": [
    {
      "cell_type": "code",
      "metadata": {
        "colab": {
          "base_uri": "https://localhost:8080/"
        },
        "id": "abYttz3roZxD",
        "outputId": "4f8007c7-f042-492c-faf5-ffcd3f75791b"
      },
      "source": [
        "from bs4 import BeautifulSoup\n",
        "import requests\n",
        "import pandas as pd\n",
        "\n",
        "\n",
        "html_text = requests.get('https://www.icc-cricket.com/rankings/womens/player-rankings/odi').text\n",
        "soup = BeautifulSoup(html_text, 'lxml')\n",
        "table = soup.find('div', class_ = 'rankings-block__banner--player-info')\n",
        "block = soup.find_all('tr', class_ = 'table-body')\n",
        "\n",
        "rank1 = soup.find('div', class_ = 'rankings-block__banner--pos').text\n",
        "name1 = soup.find('div', class_ = 'rankings-block__banner--name').text\n",
        "rate1 = soup.find('div', class_ = 'rankings-block__banner--rating').text\n",
        "\n",
        "row = [[rank1.strip(), name1.strip(), rate1.strip()]]\n",
        "\n",
        "i=1\n",
        "\n",
        "for items in block:\n",
        "\n",
        "    if i<=9:\n",
        "\n",
        "        Name = items.find('td', class_ = 'table-body__cell name').text\n",
        "        Rank = items.find('td', class_ = 'table-body__cell table-body__cell--position u-text-right').text\n",
        "        Rating = items.find('td', class_ = 'table-body__cell u-text-right rating').text\n",
        "\n",
        "        row.append([Rank.strip(), Name.strip(), Rating.strip()])\n",
        "\n",
        "    i=i+1\n",
        "\n",
        "df = pd.DataFrame(row, columns = ['Rank', 'Player', 'Rating'])\n",
        "print(df)"
      ],
      "execution_count": 1,
      "outputs": [
        {
          "output_type": "stream",
          "name": "stdout",
          "text": [
            "  Rank             Player Rating\n",
            "0    1        Lizelle Lee    761\n",
            "1    2       Alyssa Healy    750\n",
            "2    3        Mithali Raj    738\n",
            "3    4     Tammy Beaumont    728\n",
            "4    5  Amy Satterthwaite    717\n",
            "5    6    Smriti Mandhana    710\n",
            "6    7        Meg Lanning    699\n",
            "7    8        Beth Mooney    690\n",
            "8    9     Heather Knight    674\n",
            "9   10    Laura Wolvaardt    672\n"
          ]
        }
      ]
    }
  ]
}