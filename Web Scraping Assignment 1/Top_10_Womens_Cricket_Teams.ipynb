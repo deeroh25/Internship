{
  "nbformat": 4,
  "nbformat_minor": 0,
  "metadata": {
    "colab": {
      "name": "Top 10 Womens Cricket Teams.ipynb",
      "provenance": [],
      "collapsed_sections": []
    },
    "kernelspec": {
      "name": "python3",
      "display_name": "Python 3"
    },
    "language_info": {
      "name": "python"
    }
  },
  "cells": [
    {
      "cell_type": "code",
      "metadata": {
        "colab": {
          "base_uri": "https://localhost:8080/"
        },
        "id": "JR7LspM29ddB",
        "outputId": "3ed5c461-761b-4e37-a558-5d0f3d2b3a98"
      },
      "source": [
        "from bs4 import BeautifulSoup\n",
        "import requests\n",
        "import pandas as pd\n",
        "\n",
        "html_text = requests.get('https://www.icc-cricket.com/rankings/womens/team-rankings/odi').text\n",
        "soup = BeautifulSoup(html_text, 'lxml')\n",
        "table = soup.find_all('div', class_ = 'rankings-block__container full rankings-table')\n",
        "rank1 = soup.find('td', class_ = 'rankings-block__banner--pos').text\n",
        "team1 = soup.find('span', class_ = 'u-hide-phablet').text\n",
        "match1 = soup.find('td', class_ = 'rankings-block__banner--matches').text\n",
        "points1 = soup.find('td', class_ = 'rankings-block__banner--points').text\n",
        "rating1 = soup.find('td', class_ = 'rankings-block__banner--rating u-text-right').text\n",
        "\n",
        "row = [[rank1.strip(), team1.strip(), match1.strip(), points1.strip(), rating1.strip()]]\n",
        "\n",
        "i=1\n",
        "\n",
        "block = soup.find_all('tr', class_ = 'table-body')\n",
        "\n",
        "for items in block:\n",
        "\n",
        "    if i<=9:\n",
        "\n",
        "        Ranking = items.find('td', class_ = 'table-body__cell table-body__cell--position u-text-right').text\n",
        "        Team_Name = items.find('span', class_ = 'u-hide-phablet').text\n",
        "        Matches, Points = [each.text for each in items.find_all('td', class_ = 'table-body__cell u-center-text')]\n",
        "        Rating = items.find('td', class_ = 'table-body__cell u-text-right rating').text\n",
        "\n",
        "        row.append([Ranking.strip(), Team_Name.strip(), Matches.strip(), Points.strip(), Rating.strip()])\n",
        "\n",
        "    i=i+1\n",
        "\n",
        "df = pd.DataFrame(row, columns = ['Rank', 'Team Name', 'Matches Played', 'Points', 'Rating'])\n",
        "print(df)"
      ],
      "execution_count": 7,
      "outputs": [
        {
          "output_type": "stream",
          "name": "stdout",
          "text": [
            "  Rank     Team Name Matches Played Points Rating\n",
            "0    1     Australia             21  3,379    161\n",
            "1    2       England             25  2,983    119\n",
            "2    3  South Africa             29  3,390    117\n",
            "3    4         India             26  2,934    113\n",
            "4    5   New Zealand             26  2,392     92\n",
            "5    6   West Indies             22  1,872     85\n",
            "6    7      Pakistan             20  1,496     75\n",
            "7    8    Bangladesh              5    306     61\n",
            "8    9     Sri Lanka             11    519     47\n",
            "9   10       Ireland              2     25     13\n"
          ]
        }
      ]
    }
  ]
}