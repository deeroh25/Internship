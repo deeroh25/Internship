{
  "nbformat": 4,
  "nbformat_minor": 0,
  "metadata": {
    "colab": {
      "name": "Wiki Header Tags.ipynb",
      "provenance": [],
      "collapsed_sections": []
    },
    "kernelspec": {
      "name": "python3",
      "display_name": "Python 3"
    },
    "language_info": {
      "name": "python"
    }
  },
  "cells": [
    {
      "cell_type": "code",
      "metadata": {
        "colab": {
          "base_uri": "https://localhost:8080/"
        },
        "id": "BGeSQttHEkCQ",
        "outputId": "98eb3b56-945f-424c-f3cf-626fd7271c3b"
      },
      "source": [
        "from bs4 import BeautifulSoup\n",
        "import requests\n",
        "\n",
        "html_text = requests.get(\"https://en.wikipedia.org/wiki/Main_Page\").text\n",
        "soup = BeautifulSoup(html_text, 'lxml')\n",
        "titles = soup.find_all(['h1', 'h2','h3','h4','h5','h6'])\n",
        "print(f'List of all the header tags : {titles}')\n"
      ],
      "execution_count": 20,
      "outputs": [
        {
          "output_type": "stream",
          "name": "stdout",
          "text": [
            "List of all the header tags : [<h1 class=\"firstHeading\" id=\"firstHeading\">Main Page</h1>, <h2 class=\"mp-h2\" id=\"mp-tfa-h2\"><span id=\"From_today.27s_featured_article\"></span><span class=\"mw-headline\" id=\"From_today's_featured_article\">From today's featured article</span></h2>, <h2 class=\"mp-h2\" id=\"mp-dyk-h2\"><span class=\"mw-headline\" id=\"Did_you_know_...\">Did you know ...</span></h2>, <h2 class=\"mp-h2\" id=\"mp-itn-h2\"><span class=\"mw-headline\" id=\"In_the_news\">In the news</span></h2>, <h2 class=\"mp-h2\" id=\"mp-otd-h2\"><span class=\"mw-headline\" id=\"On_this_day\">On this day</span></h2>, <h2 class=\"mp-h2\" id=\"mp-tfp-h2\"><span id=\"Today.27s_featured_picture\"></span><span class=\"mw-headline\" id=\"Today's_featured_picture\">Today's featured picture</span></h2>, <h2 class=\"mp-h2\" id=\"mp-other\"><span class=\"mw-headline\" id=\"Other_areas_of_Wikipedia\">Other areas of Wikipedia</span></h2>, <h2 class=\"mp-h2\" id=\"mp-sister\"><span id=\"Wikipedia.27s_sister_projects\"></span><span class=\"mw-headline\" id=\"Wikipedia's_sister_projects\">Wikipedia's sister projects</span></h2>, <h2 class=\"mp-h2\" id=\"mp-lang\"><span class=\"mw-headline\" id=\"Wikipedia_languages\">Wikipedia languages</span></h2>, <h2>Navigation menu</h2>, <h3 aria-label=\"\" class=\"vector-menu-heading\" id=\"p-personal-label\">\n",
            "<span>Personal tools</span>\n",
            "</h3>, <h3 aria-label=\"\" class=\"vector-menu-heading\" id=\"p-namespaces-label\">\n",
            "<span>Namespaces</span>\n",
            "</h3>, <h3 aria-label=\"Change language variant\" class=\"vector-menu-heading\" id=\"p-variants-label\">\n",
            "<span>Variants</span>\n",
            "<span class=\"vector-menu-checkbox-expanded\">expanded</span>\n",
            "<span class=\"vector-menu-checkbox-collapsed\">collapsed</span>\n",
            "</h3>, <h3 aria-label=\"\" class=\"vector-menu-heading\" id=\"p-views-label\">\n",
            "<span>Views</span>\n",
            "</h3>, <h3 aria-label=\"\" class=\"vector-menu-heading\" id=\"p-cactions-label\">\n",
            "<span>More</span>\n",
            "<span class=\"vector-menu-checkbox-expanded\">expanded</span>\n",
            "<span class=\"vector-menu-checkbox-collapsed\">collapsed</span>\n",
            "</h3>, <h3>\n",
            "<label for=\"searchInput\">Search</label>\n",
            "</h3>, <h3 aria-label=\"\" class=\"vector-menu-heading\" id=\"p-navigation-label\">\n",
            "<span>Navigation</span>\n",
            "</h3>, <h3 aria-label=\"\" class=\"vector-menu-heading\" id=\"p-interaction-label\">\n",
            "<span>Contribute</span>\n",
            "</h3>, <h3 aria-label=\"\" class=\"vector-menu-heading\" id=\"p-tb-label\">\n",
            "<span>Tools</span>\n",
            "</h3>, <h3 aria-label=\"\" class=\"vector-menu-heading\" id=\"p-coll-print_export-label\">\n",
            "<span>Print/export</span>\n",
            "</h3>, <h3 aria-label=\"\" class=\"vector-menu-heading\" id=\"p-wikibase-otherprojects-label\">\n",
            "<span>In other projects</span>\n",
            "</h3>, <h3 aria-label=\"\" class=\"vector-menu-heading\" id=\"p-lang-label\">\n",
            "<span>Languages</span>\n",
            "</h3>]\n"
          ]
        }
      ]
    }
  ]
}