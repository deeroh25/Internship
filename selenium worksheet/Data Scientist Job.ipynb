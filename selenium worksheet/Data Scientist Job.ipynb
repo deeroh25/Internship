{
 "cells": [
  {
   "cell_type": "code",
   "execution_count": 1,
   "id": "69c8c971",
   "metadata": {},
   "outputs": [
    {
     "name": "stderr",
     "output_type": "stream",
     "text": [
      "<ipython-input-1-82594e4f2f6c>:35: DeprecationWarning: find_elements_by_* commands are deprecated. Please use find_elements() instead\n",
      "  titles=driver.find_elements_by_xpath(\"//a[@class='title fw500 ellipsis']\")\n"
     ]
    },
    {
     "ename": "NameError",
     "evalue": "name 'time' is not defined",
     "output_type": "error",
     "traceback": [
      "\u001b[1;31m---------------------------------------------------------------------------\u001b[0m",
      "\u001b[1;31mNameError\u001b[0m                                 Traceback (most recent call last)",
      "\u001b[1;32m<ipython-input-1-82594e4f2f6c>\u001b[0m in \u001b[0;36m<module>\u001b[1;34m\u001b[0m\n\u001b[0;32m     47\u001b[0m \u001b[1;33m\u001b[0m\u001b[0m\n\u001b[0;32m     48\u001b[0m \u001b[1;33m\u001b[0m\u001b[0m\n\u001b[1;32m---> 49\u001b[1;33m \u001b[0mtime\u001b[0m\u001b[1;33m.\u001b[0m\u001b[0msleep\u001b[0m\u001b[1;33m(\u001b[0m\u001b[1;36m4\u001b[0m\u001b[1;33m)\u001b[0m\u001b[1;33m\u001b[0m\u001b[1;33m\u001b[0m\u001b[0m\n\u001b[0m\u001b[0;32m     50\u001b[0m \u001b[1;33m\u001b[0m\u001b[0m\n\u001b[0;32m     51\u001b[0m \u001b[1;31m#scraping the job-location\u001b[0m\u001b[1;33m\u001b[0m\u001b[1;33m\u001b[0m\u001b[1;33m\u001b[0m\u001b[0m\n",
      "\u001b[1;31mNameError\u001b[0m: name 'time' is not defined"
     ]
    }
   ],
   "source": [
    "import selenium\n",
    "import pandas as pd\n",
    "from selenium import webdriver\n",
    "from selenium.webdriver.chrome.service import Service\n",
    "from selenium.webdriver.common.by import By\n",
    "import pandas as pd\n",
    "\n",
    "s = Service('C:\\\\Users\\\\sahil.rohra\\\\Downloads\\\\chromedriver.exe')\n",
    "\n",
    "driver = webdriver.Chrome(service=s)\n",
    "driver.maximize_window()\n",
    "driver.get('https://www.naukri.com/')\n",
    "\n",
    "search_job = driver.find_element(By.XPATH,\"//input[@id='qsb-keyword-sugg']\")\n",
    "search_job.send_keys(\"Data Scientist\")\n",
    "search_location = driver.find_element(By.XPATH,\"//input[@id='qsb-location-sugg']\")\n",
    "search_location.send_keys(\"Bangalore\")\n",
    "search_button = driver.find_element(By.XPATH,\"//div[@class='search-btn']\")\n",
    "search_button.click()\n"
   ]
  },
  {
   "cell_type": "code",
   "execution_count": 3,
   "id": "fc1dd24a",
   "metadata": {},
   "outputs": [
    {
     "name": "stderr",
     "output_type": "stream",
     "text": [
      "<ipython-input-3-d14b69e94fd0>:15: DeprecationWarning: find_elements_by_* commands are deprecated. Please use find_elements() instead\n",
      "  titles=driver.find_elements_by_xpath(\"//a[@class='title fw500 ellipsis']\")\n",
      "<ipython-input-3-d14b69e94fd0>:33: DeprecationWarning: find_elements_by_* commands are deprecated. Please use find_elements() instead\n",
      "  locations=driver.find_elements_by_xpath(\"//li[@class='fleft grey-text br2 placeHolderLi location']/span[1]\")\n",
      "<ipython-input-3-d14b69e94fd0>:51: DeprecationWarning: find_elements_by_* commands are deprecated. Please use find_elements() instead\n",
      "  companies=driver.find_elements_by_xpath(\"//div[@class='mt-7 companyInfo subheading lh16']/a\")\n"
     ]
    }
   ],
   "source": [
    "# creating empty lists for scraping data\n",
    "\n",
    "job_title=[]\n",
    "\n",
    "job_location=[]\n",
    "\n",
    "company_name=[]\n",
    "\n",
    "\n",
    "\n",
    "\n",
    "\n",
    "\n",
    "#scraping the job-titles\n",
    "\n",
    "titles=driver.find_elements_by_xpath(\"//a[@class='title fw500 ellipsis']\")\n",
    "\n",
    "for i in titles:\n",
    "\n",
    "    if i.text is None :\n",
    "\n",
    "        job_title.append(\"--\") \n",
    "\n",
    "    else:\n",
    "\n",
    "        job_title.append(i.text)\n",
    "\n",
    "\n",
    "\n",
    "#time.sleep(4)\n",
    "\n",
    "#scraping the job-location\n",
    "\n",
    "locations=driver.find_elements_by_xpath(\"//li[@class='fleft grey-text br2 placeHolderLi location']/span[1]\")\n",
    "\n",
    "for i in locations:\n",
    "\n",
    "    if i.text is None :\n",
    "\n",
    "        job_location.append(\"--\") \n",
    "\n",
    "    else:\n",
    "\n",
    "        job_location.append(i.text)\n",
    "\n",
    "        \n",
    "\n",
    "#time.sleep(4)        \n",
    "\n",
    "#scraping the company_name \n",
    "\n",
    "companies=driver.find_elements_by_xpath(\"//div[@class='mt-7 companyInfo subheading lh16']/a\")\n",
    "\n",
    "for i in companies:\n",
    "\n",
    "    if i.text is None :\n",
    "\n",
    "        company_name.append(\"--\") \n",
    "\n",
    "    else:\n",
    "\n",
    "        company_name.append(i.text)"
   ]
  },
  {
   "cell_type": "code",
   "execution_count": 15,
   "id": "fe4181c0",
   "metadata": {},
   "outputs": [
    {
     "name": "stdout",
     "output_type": "stream",
     "text": [
      "                                           Job Title  \\\n",
      "0  [Forecasting Analyst/ Data Scientist (US Clien...   \n",
      "\n",
      "                                        Company Name  \\\n",
      "0  [Concentrix Daksh Services, (10226 Reviews), O...   \n",
      "\n",
      "                                        job location  \n",
      "0  [Gurgaon/Gurugram, Bangalore/Bengaluru, Bangal...  \n"
     ]
    }
   ],
   "source": [
    "row=[]\n",
    "row.append([job_title, company_name, job_location])\n",
    "\n",
    "df1 = pd.DataFrame(row, columns = ['Job Title', 'Company Name', 'job location'])\n",
    "print(df1)"
   ]
  },
  {
   "cell_type": "code",
   "execution_count": null,
   "id": "b88c1213",
   "metadata": {},
   "outputs": [],
   "source": []
  }
 ],
 "metadata": {
  "kernelspec": {
   "display_name": "Python 3",
   "language": "python",
   "name": "python3"
  },
  "language_info": {
   "codemirror_mode": {
    "name": "ipython",
    "version": 3
   },
   "file_extension": ".py",
   "mimetype": "text/x-python",
   "name": "python",
   "nbconvert_exporter": "python",
   "pygments_lexer": "ipython3",
   "version": "3.8.8"
  }
 },
 "nbformat": 4,
 "nbformat_minor": 5
}
